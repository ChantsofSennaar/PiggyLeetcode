{
 "cells": [
  {
   "attachments": {},
   "cell_type": "markdown",
   "metadata": {},
   "source": [
    "### Weekly Contest 393\n",
    "\n"
   ]
  },
  {
   "attachments": {},
   "cell_type": "markdown",
   "metadata": {},
   "source": [
    "#### 3114. Latest Time You Can Obtain After Replacing Characters\n",
    "\n",
    "> You are given a string s representing a 12-hour format time where some of the digits (possibly none) are replaced with a \"?\".\n",
    ">\n",
    "> 12-hour times are formatted as \"HH:MM\", where HH is between 00 and 11, and MM is between 00 and 59. The earliest 12-hour time is 00:00, and the latest is 11:59.\n",
    ">\n",
    "> You have to replace all the \"?\" characters in s with digits such that the time we obtain by the resulting string is a valid 12-hour format time and is the latest possible.\n",
    "> \n",
    "> Return the resulting string.\n",
    "\n",
    "*Tags: Math*\n",
    "\n",
    "Solution: Note it's 12-hour not 24-hour. Simple if else can solve the problem. Be careful with edge cases."
   ]
  },
  {
   "cell_type": "code",
   "execution_count": 2,
   "metadata": {},
   "outputs": [],
   "source": [
    "from typing import List\n",
    "class Solution:\n",
    "    def findLatestTime(self, s: str) -> str:\n",
    "        s = list(s)\n",
    "\n",
    "        if s[0] == s[1] == '?':\n",
    "            s[0] = s[1] = '1'\n",
    "        elif s[0] == '0':\n",
    "            if s[1] == '?': s[1] = \"9\"\n",
    "        elif s[0] == '1':\n",
    "            if s[1] == '?': s[1] = \"1\"\n",
    "        elif s[0] == '?':\n",
    "            if s[1] == '0' or s[1] == '1': s[0] = '1'\n",
    "            else: s[0] = '0'\n",
    "                \n",
    "        if s[3] == '?' and s[4] == '?':\n",
    "            s[3], s[4] = '5', '9'\n",
    "        elif s[3] == '?':\n",
    "            s[3] = '5'\n",
    "        elif s[4] == '?':\n",
    "            s[4] = '9'\n",
    "        \n",
    "        return \"\".join(s)"
   ]
  },
  {
   "attachments": {},
   "cell_type": "markdown",
   "metadata": {},
   "source": [
    "#### 3115. Maximum Prime Difference\n",
    "\n",
    "> You are given an integer array nums.\n",
    ">\n",
    "> Return an integer that is the maximum distance between the indices of two (not necessarily different) prime numbers in nums.\n",
    "\n",
    "*Tags: Math*\n",
    "\n",
    "Solution: Find the leftmost and rightmost prime numbers and compute their distance."
   ]
  },
  {
   "cell_type": "code",
   "execution_count": 3,
   "metadata": {},
   "outputs": [],
   "source": [
    "class Solution:\n",
    "    def maximumPrimeDifference(self, nums: List[int]) -> int:\n",
    "        ans = set()\n",
    "        def judge(n):\n",
    "            nonlocal ans\n",
    "            for i in range(2, n):\n",
    "                if n % i == 0: return\n",
    "            ans.add(n)\n",
    "        for i in range(2, 101): judge(i)\n",
    "                        \n",
    "        left, right = -1, -1\n",
    "        for i in range(0, len(nums)):\n",
    "            if nums[i] in ans: \n",
    "                left = i\n",
    "                break\n",
    "                \n",
    "        for i in range(len(nums)-1, -1, -1):\n",
    "            if nums[i] in ans: \n",
    "                right = i\n",
    "                break\n",
    "        return right - left"
   ]
  },
  {
   "attachments": {},
   "cell_type": "markdown",
   "metadata": {},
   "source": [
    "#### 3116. Kth Smallest Amount With Single Denomination Combination\n",
    "\n",
    "> You are given an integer array coins representing coins of different denominations and an integer k.\n",
    ">\n",
    "> You have an infinite number of coins of each denomination. However, you are not allowed to combine coins of different denominations.\n",
    "> \n",
    "> Return the kth smallest amount that can be made using these coins.\n",
    "\n",
    "*Tags: Math, Binary Search*\n",
    "\n",
    "Solution: This one is hard regarding the fact k could range from (1, 2*10**9), so we have to use an alternate way to think about it. First We need to use *binary search* to find out *tagret*. Here target has the property that the total number of valid denominations that are less or equal to target should equal to k. Another difficulty in the question is that we may count some combination twice, for example if coins = [3, 6, 9] then 3 and 6 can produce a denomination of 6. The duplicates will only happen when the domination is a multiple of their least common multiple. So count(a or b) = count(a) + count(b) - count(lcm(a, b)). When their are more coins that the formula will become more complicated. count(a or b or c) = count(a) + count(b) + count(c) - count(lcm(a, b)) - count(lcm(a, c)) - count(lcm(b, c)) + count(lcm(a, b, c))."
   ]
  },
  {
   "cell_type": "markdown",
   "metadata": {},
   "source": []
  },
  {
   "cell_type": "code",
   "execution_count": 4,
   "metadata": {},
   "outputs": [],
   "source": [
    "class Solution:\n",
    "    \n",
    "    def compute(self, coins, k):\n",
    "        ans = []\n",
    "        def getDivideNumber(idx, k, number):   \n",
    "            if k == 0: \n",
    "                ans.append(number)\n",
    "                return\n",
    "            if idx >= len(coins): return\n",
    "            getDivideNumber(idx+1, k, number) \n",
    "            getDivideNumber(idx+1, k-1, self.lcm(number, coins[idx]))\n",
    "             \n",
    "        getDivideNumber(0, k, 1)\n",
    "        \n",
    "        return ans\n",
    "\n",
    "    def gcd(self, a, b):\n",
    "        if b == 0: return a;\n",
    "        return self.gcd(b, a % b);\n",
    "        \n",
    "    def lcm(self, a, b):\n",
    "        return (a / self.gcd(a, b)) * b;\n",
    "    \n",
    "    def findKthSmallest(self, coins: List[int], k: int) -> int:\n",
    "        coins.sort()\n",
    "\n",
    "        lo, hi = min(coins), min(coins) * k\n",
    "        divides = []\n",
    "        for i in range(len(coins)):\n",
    "            divides.append(self.compute(coins, i+1))\n",
    "        \n",
    "        while lo < hi:\n",
    "            mid = (lo + hi) // 2\n",
    "            cnt = 0\n",
    "            for i in range(len(coins)):\n",
    "                for d in divides[i]:\n",
    "                    cnt += ((-1) ** (i % 2)) * (mid // d)\n",
    "            if cnt < k:\n",
    "                lo = mid + 1\n",
    "            else:\n",
    "                hi = mid\n",
    "        return lo"
   ]
  },
  {
   "attachments": {},
   "cell_type": "markdown",
   "metadata": {},
   "source": [
    "#### 3117. Minimum Sum of Values by Dividing Array\n",
    "\n",
    "> You are given two arrays nums and andValues of length n and m respectively.\n",
    ">\n",
    "> The value of an array is equal to the last element of that array.\n",
    ">\n",
    "> You have to divide nums into m disjoint contiguous subarrays such that for the ith subarray [li, ri], the bitwise AND of the subarray elements is equal to andValues[i], in other words, nums[li] & nums[li + 1] & ... & nums[ri] == andValues[i] for all 1 <= i <= m, where & represents the bitwise AND operator.\n",
    ">\n",
    "> Return the minimum possible sum of the values of the m subarrays nums is divided into. If it is not possible to divide nums into m subarrays satisfying these conditions, return -1.\n",
    "\n",
    "*Tags: Array, Dynamic Programming, Memorization*\n",
    "\n",
    "\n",
    "Solution: When using the memorization, be careful of the total states you should store to avoid MLE. Avoid storing any variable which is not necessary. For example, here you don't need to store the total value from each subarray."
   ]
  },
  {
   "cell_type": "code",
   "execution_count": 5,
   "metadata": {},
   "outputs": [],
   "source": [
    "class Solution:\n",
    "    def minimumValueSum(self, nums: List[int], andValues: List[int]) -> int:\n",
    "        NUM_1 = int(pow(2,32)) - 1\n",
    "        n, k = len(nums), len(andValues)\n",
    "        \n",
    "        ans = inf\n",
    "\n",
    "        @lru_cache(None)\n",
    "        def dfs(idx, remaining_k, curAndValue):\n",
    "            nonlocal ans\n",
    "            if idx == len(nums) and remaining_k == 0:\n",
    "                return 0\n",
    "            if idx >= len(nums): return inf\n",
    "            if remaining_k == 0 and idx < len(nums): return inf\n",
    "\n",
    "            cur = inf\n",
    "            if curAndValue & nums[idx] == andValues[k-remaining_k]:\n",
    "                cur = nums[idx] + dfs(idx+1, remaining_k-1, NUM_1)\n",
    "            cur = min(cur, dfs(idx+1, remaining_k, curAndValue & nums[idx]))\n",
    "            return cur\n",
    "            \n",
    "        ans = dfs(0, k, NUM_1)\n",
    "        return ans if ans != inf else -1"
   ]
  },
  {
   "cell_type": "markdown",
   "metadata": {},
   "source": []
  }
 ],
 "metadata": {
  "kernelspec": {
   "display_name": "py39",
   "language": "python",
   "name": "python3"
  },
  "language_info": {
   "codemirror_mode": {
    "name": "ipython",
    "version": 3
   },
   "file_extension": ".py",
   "mimetype": "text/x-python",
   "name": "python",
   "nbconvert_exporter": "python",
   "pygments_lexer": "ipython3",
   "version": "3.9.7"
  },
  "orig_nbformat": 4,
  "vscode": {
   "interpreter": {
    "hash": "e0c9c349f8618313f1dfe96763b44e5bdd87d9397e64eaa1caaf4cc9063e68f1"
   }
  }
 },
 "nbformat": 4,
 "nbformat_minor": 2
}
